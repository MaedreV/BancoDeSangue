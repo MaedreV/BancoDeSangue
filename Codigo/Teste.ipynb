{
 "cells": [
  {
   "attachments": {},
   "cell_type": "markdown",
   "metadata": {},
   "source": [
    "# Joins"
   ]
  },
  {
   "cell_type": "code",
   "execution_count": 1,
   "metadata": {},
   "outputs": [
    {
     "name": "stdout",
     "output_type": "stream",
     "text": [
      "     nome data_da_doacao nome_do_hospital\n",
      "0  Ingrid     2023-04-20      Santa Joana\n"
     ]
    }
   ],
   "source": [
    "import pandas as pd\n",
    "import sqlite3\n",
    "\n",
    "conexao = sqlite3.connect('BancoDeSangue.db')\n",
    "\n",
    "query_consultaCLiente = \"\"\"\n",
    "SELECT Doadores.nome, Doacoes.data_da_doacao, Hospitais.nome_do_hospital\n",
    "FROM Doadores\n",
    "JOIN Doacoes ON Doadores.ID_do_doador = Doacoes.ID_do_doador\n",
    "JOIN Hospitais ON Doacoes.local_da_doacao = Hospitais.ID_do_hospital\n",
    "WHERE Doadores.ID_do_doador = 2;\n",
    "\"\"\"\n",
    "\n",
    "query = pd.read_sql_query(query_consultaCLiente, conexao)\n",
    "df = pd.DataFrame(query)\n",
    "df.to_csv(\"Query_consultaCLiente.csv\", index=False)\n",
    "\n",
    "# Fechar a conexão com o banco de dados\n",
    "conexao.close()\n",
    "\n",
    "# Lendo o arquivo CSV com o pandas\n",
    "df_lido = pd.read_csv(\"Query_consultaCLiente.csv\")\n",
    "print(df_lido)"
   ]
  },
  {
   "cell_type": "code",
   "execution_count": 1,
   "metadata": {},
   "outputs": [
    {
     "name": "stdout",
     "output_type": "stream",
     "text": [
      "   ID_do_doador     nome tipo_sanguineo  idade     genero data_de_registro  \\\n",
      "0             1     Raul             A+     19  Masculino       2022-01-01   \n",
      "1             2   Ingrid             B-     18   Feminino       2022-02-02   \n",
      "2             3   Samuel             O+     31  Masculino       2022-03-03   \n",
      "3             4  Melissa             A-     26   Feminino       2023-06-07   \n",
      "4             5  Alfredo             O-     29  Masculino       2023-08-11   \n",
      "5             6    Luisa             B+     29   Feminino       2023-08-11   \n",
      "\n",
      "      cidade      estado    pais          nome_do_hospital  \n",
      "0     Recife  Pernambuco  Brasil        Hospital Português  \n",
      "1     Recife  Pernambuco  Brasil               Santa Joana  \n",
      "2     Recife  Pernambuco  Brasil               Santa Joana  \n",
      "3  São Paulo   São Paulo  Brasil        Hospital São Lucas  \n",
      "4  São Paulo   São paulo  Brasil  Hospital Albert Einstein  \n",
      "5  São Paulo   São paulo  Brasil        Hospital São Lucas  \n"
     ]
    }
   ],
   "source": [
    "import pandas as pd\n",
    "import sqlite3\n",
    "\n",
    "conexao = sqlite3.connect('BancoDeSangue.db')\n",
    "\n",
    "query_tudo = \"\"\"\n",
    "SELECT Doadores.*, Hospitais.nome_do_hospital\n",
    "FROM Doadores\n",
    "JOIN Doacoes ON Doadores.ID_do_doador = Doacoes.ID_do_doador\n",
    "JOIN Hospitais ON Doacoes.local_da_doacao = Hospitais.ID_do_hospital;\n",
    "\"\"\"\n",
    "\n",
    "query = pd.read_sql_query(query_tudo, conexao)\n",
    "df = pd.DataFrame(query)\n",
    "df.to_csv(\"Query_consulta.csv\", index=False)\n",
    "\n",
    "# Fechar a conexão com o banco de dados\n",
    "conexao.close()\n",
    "\n",
    "# Lendo o arquivo CSV com o pandas\n",
    "df_lido = pd.read_csv(\"Query_consulta.csv\")\n",
    "print(df_lido)"
   ]
  },
  {
   "cell_type": "code",
   "execution_count": 2,
   "metadata": {},
   "outputs": [
    {
     "name": "stdout",
     "output_type": "stream",
     "text": [
      "     nome tipo_sanguineo data_da_doacao\n",
      "0  Ingrid             B-     2023-04-20\n",
      "1  Samuel             O+     2023-06-09\n"
     ]
    }
   ],
   "source": [
    "import pandas as pd\n",
    "import sqlite3\n",
    "\n",
    "conexao = sqlite3.connect('BancoDeSangue.db')\n",
    "\n",
    "query_hospital = \"\"\"\n",
    "SELECT Doadores.nome, Doadores.tipo_sanguineo, Doacoes.data_da_doacao\n",
    "FROM Doadores\n",
    "JOIN Doacoes ON Doadores.ID_do_doador = Doacoes.ID_do_doador\n",
    "JOIN Hospitais ON Doacoes.local_da_doacao = Hospitais.ID_do_hospital\n",
    "WHERE Hospitais.ID_do_hospital = 2;\n",
    "\"\"\"\n",
    "\n",
    "query = pd.read_sql_query(query_hospital, conexao)\n",
    "df = pd.DataFrame(query)\n",
    "df.to_csv(\"Query_consultaHospital.csv\", index=False)\n",
    "\n",
    "# Fechar a conexão com o banco de dados\n",
    "conexao.close()\n",
    "\n",
    "# Lendo o arquivo CSV com o pandas\n",
    "df_lido = pd.read_csv(\"Query_consultaHospital.csv\")\n",
    "print(df_lido)"
   ]
  }
 ],
 "metadata": {
  "kernelspec": {
   "display_name": "Python 3",
   "language": "python",
   "name": "python3"
  },
  "language_info": {
   "codemirror_mode": {
    "name": "ipython",
    "version": 3
   },
   "file_extension": ".py",
   "mimetype": "text/x-python",
   "name": "python",
   "nbconvert_exporter": "python",
   "pygments_lexer": "ipython3",
   "version": "3.10.8"
  },
  "orig_nbformat": 4
 },
 "nbformat": 4,
 "nbformat_minor": 2
}
